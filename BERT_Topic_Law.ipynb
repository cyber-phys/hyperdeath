{
 "cells": [
  {
   "cell_type": "markdown",
   "id": "62768c78",
   "metadata": {},
   "source": [
    "BERTopic Demo\n",
    "https://maartengr.github.io/BERTopic/"
   ]
  },
  {
   "cell_type": "code",
   "execution_count": null,
   "id": "57491f9d",
   "metadata": {},
   "outputs": [],
   "source": [
    "%pip install bertopic\n",
    "%pip install bertopic[flair, gensim, spacy, use]\n",
    "%pip install openai"
   ]
  },
  {
   "cell_type": "markdown",
   "id": "c1f1fd07",
   "metadata": {},
   "source": [
    "Fetch texts from db and compute topics with BERTopic"
   ]
  },
  {
   "cell_type": "code",
   "execution_count": null,
   "id": "4fa085df",
   "metadata": {},
   "outputs": [],
   "source": [
    "from bertopic import BERTopic\n",
    "from embedding import fetch_entries\n",
    "db_name = \"law_database.db\"\n",
    "texts, uuids = fetch_entries(db_name)\n",
    "\n",
    "topic_model = BERTopic()\n",
    "topics, probs = topic_model.fit_transform(texts)"
   ]
  },
  {
   "cell_type": "code",
   "execution_count": 1,
   "id": "18589b9f",
   "metadata": {},
   "outputs": [
    {
     "name": "stderr",
     "output_type": "stream",
     "text": [
      "[nltk_data] Downloading package punkt to /Users/luc/nltk_data...\n",
      "[nltk_data]   Package punkt is already up-to-date!\n"
     ]
    },
    {
     "ename": "",
     "evalue": "",
     "output_type": "error",
     "traceback": [
      "\u001b[1;31mThe Kernel crashed while executing code in the the current cell or a previous cell. Please review the code in the cell(s) to identify a possible cause of the failure. Click <a href='https://aka.ms/vscodeJupyterKernelCrash'>here</a> for more info. View Jupyter <a href='command:jupyter.viewOutput'>log</a> for further details."
     ]
    }
   ],
   "source": [
    "from bertopic import BERTopic\n",
    "from embedding import fetch_entries_with_embeddings\n",
    "db_name = \"law_database.db\"\n",
    "emedding_model = \"all-MiniLM-L6-v2\"\n",
    "texts, uuids, embeddings = fetch_entries_with_embeddings(db_name)\n",
    "print(\"hi dad\")\n",
    "topic_model = BERTopic(embedding_model=emedding_model)\n",
    "print(\"hi mom\")\n",
    "topics, probs = topic_model.fit_transform(texts, embeddings=embeddings)"
   ]
  },
  {
   "cell_type": "markdown",
   "id": "003427d2",
   "metadata": {},
   "source": [
    "Insert the topics into the db"
   ]
  },
  {
   "cell_type": "code",
   "execution_count": 2,
   "id": "38183068",
   "metadata": {},
   "outputs": [
    {
     "name": "stdout",
     "output_type": "stream",
     "text": [
      "['-1_or_of_the_any', '0_racing_horse_wagering_meeting', '1_pharmacy_pharmacist_drug_drugs', '2_bar_state_attorney_legal', '3_lien_owner_vehicle_lienholder', '4_display_advertising_displays_highway', '5_dollars_fee_hundred_increased', '6_mobilehome_park_management_homeowner', '7_optometrist_optometry_lens_lenses', '8_firearm_firearms_training_baton', '9_veterinary_veterinarian_animal_blood', '10_pest_pesticide_control_structural', '11_laboratory_clinical_test_tests', '12_martial_commission_contest_boxing', '13_gambling_commission_game_establishment', '14_nurse_nursing_nurses_vocational', '15_personal_information_consumers_business', '16_clinical_associate_marriage_social', '17_engineer_land_engineering_surveying', '18_imprisonment_fine_jail_punishable', '19_autographed_collectible_price_merchandise', '20_cannabis_products_medicinal_department', '21_qualified_manager_licensee_managing', '22_development_subdivider_parcels_lots', '23_carrier_freight_consignor_consignee', '24_renewal_renewed_expiration_delinquency', '25_warranty_repair_parts_manufacturer', '26_consumer_credit_reporting_agency', '27_adopt_regulations_rules_rule', '28_lessor_lessee_lease_rental', '29_common_development_interest_cooperative', '30_cemetery_broker_salesperson_copartnership', '31_term_appointed_member_members', '32_health_care_medical_provider', '33_appreciation_loan_shared_contingent', '34_tobacco_cigarettes_products_distributor', '35_buyer_contract_conditional_seller', '36_household_mover_bureau_movers', '37_principal_agent_his_authority', '38_stop_claimant_payment_notice', '39_trustee_deed_beneficiary_trust', '40_bond_deposit_secretary_surety', '41_performance_obligation_creditor_promise', '42_accountant_accountancy_public_practice', '43_dental_hygiene_board_dentistry', '44_misdemeanor_guilty_violates_who', '45_attorney_brought_city_treasurer', '46_charge_installment_finance_balance', '47_floating_marina_home_homeowner', '48_contract_parties_it_writing', '49_fuel_motor_engine_oil', '50_estate_future_grant_remainder', '51_applicant_license_164_manuals', '52_govern_definitions_context_provisions', '53_damages_plaintiff_pipeline_action', '54_club_members_owns_maintains', '55_naturopathic_doctor_medicine_childbirth', '56_diversion_program_committee_participation', '57_spirits_distilled_rectifier_manufacturers', '58_injunction_525_superior_restraining', '59_meeting_meetings_members_teleconference', '60_keep_record_register_board', '61_protection_paramount_promoted_highest', '62_dental_hygienist_hygiene_registered', '63_fictitious_name_business_statement', '64_plea_conviction_guilty_verdict', '65_association_member_members_assessments', '66_citation_fine_violation_administrative', '67_franchise_franchisor_franchisee_fuel', '68_mark_platinum_famous_article', '69_geologist_geophysicist_specialty_geology', '70_builder_homeowner_repair_896', '71_hearing_aids_aid_fitting', '72_medical_postgraduate_academic_school', '73_alarm_you_company_contractor', '74_endowment_funeral_cemetery_bureau', '75_sedation_anesthesia_pediatric_moderate', '76_fiscal_year_stabilization_revenues', '77_board_architects_members_california', '78_witness_testimony_witnesses_evidence', '79_contractor_improvement_contract_work', '80_therapist_physical_therapy_occupational', '81_respiratory_care_practitioner_diagnostic', '82_mineral_oil_gas_estate', '83_hearing_protest_protests_computeraided', '84_fund_treasury_month_controller', '85_fund_treasury_controller_expended', '86_funeral_establishment_preneed_remains', '87_furniture_bedding_upholstered_filling', '88_landscape_architect_architecture_architects', '89_appraisal_appraiser_appraisers_management', '90_weighmaster_weight_tare_count', '91_partnership_firm_corporation_includes', '92_depositary_thing_depositor_deposited', '93_measuring_weighing_weights_sealer', '94_timeshare_plan_developer_accommodations', '95_acupuncture_acupuncturist_wall_practice', '96_justice_fingerprint_applicant_department', '97_immigration_reform_consultant_client', '98_void_waiver_unenforceable_contrary', '99_athlete_agent_sports_student', '100_disciplinary_constitutes_cause_action', '101_dispute_resolution_process_parties', '102_card_issuer_cardholder_debit', '103_11500_revocation_proceedings_revoke', '104_election_elections_vote_amendment', '105_continuing_education_courses_coursework', '106_card_identification_enhanced_registration', '107_library_trustees_supervisors_law', '108_easement_greenway_land_easements', '109_acknowledgment_instrument_notary_witness', '110_tax_taxable_value_local', '111_travel_restitution_corporation_participant', '112_address_email_change_notify', '113_alcoholic_beverage_alcohol_21', '114_estate_broker_real_commissioner', '115_automotive_repair_dealer_vehicle', '116_price_retail_sale_includes', '117_arbitration_arbitrator_award_judgment', '118_dangerous_logistics_thirdparty_wholesaler', '119_water_irrigation_plumbing_diversion', '120_retired_inactive_status_active', '121_employment_jobseeker_job_worker', '122_suspension_license_compromise_hearing', '123_cosmetology_hair_barbering_extern', '124_debt_debtor_settlement_collector', '125_secondhand_dealer_swap_pawnbroker', '126_podiatric_medicine_panel_medical', '127_wine_winegrower_brandy_winegrowers', '128_key_affairs_means_keys', '129_probation_board_monitoring_licensee', '130_dental_hygiene_hygienist_dentistry', '131_registration_renewal_renewed_expiration', '132_onsale_licenses_general_transferred', '133_treatment_credit_applicators_station', '134_diem_expenses_103_receive', '135_arbitration_settlement_award_judgment', '136_speechlanguage_pathology_pathologist_audiology', '137_petition_petitioner_probation_reinstatement', '138_spirits_distilled_seats_beer', '139_reinstated_reinstatement_expiration_renewed', '140_midwife_nursemidwife_midwifery_certified', '141_survey_surveyor_corner_record', '142_surrender_deprive_revoking_license', '143_surety_principal_creditor_obligation', '144_psychiatric_technician_psychological_technicians', '145_container_product_package_commodity', '146_studio_dance_lessons_contract', '147_nuisance_city_eviction_prosecutor', '148_podiatric_medicine_ankle_surgical', '149_alleged_omission_filed_accusation', '150_water_submeter_usage_billing', '151_decision_department_appeal_review', '152_design_subcontractor_direct_contractor', '153_stock_association_membership_member', '154_restriction_lease_landlords_tenants', '155_charitable_solicitation_fundraiser_sweepstakes', '156_shareholder_corporation_disqualified_accrue', '157_power_joint_recorded_preserve', '158_examination_reexamination_applicant_scheduled', '159_hazard_sellers_seller_resources', '160_substances_dangerous_conviction_controlled', '161_operative_become_july_january', '162_estate_salesperson_real_commissioner', '163_remains_cremated_human_hydrolyzed', '164_premises_wine_beverages_entertainment', '165_landlord_property_tenant_former', '166_ticket_travel_vessel_tickets', '167_fairs_fair_held_exposition', '168_invalid_severable_invalidity_provision', '169_coursework_experience_applicant_hours', '170_art_artist_multiple_fine', '171_examinations_examination_places_board', '172_hydrolysis_facility_chamber_reduction', '173_disclosure_arranger_agent_transferee', '174_land_covenant_covenantor_covenantee', '175_beer_manufacturer_wholesaler_manufacturers', '176_child_background_internet_youth', '177_insurance_policy_insurer_builder', '178_discount_buying_organization_travel', '179_livestock_lienholder_lien_sale', '180_electronic_record_signature_transaction', '181_escrow_developer_purchaser_funds', '182_asbestos_asbestosrelated_abatement_contractor', '183_trading_stamps_stamp_redemption', '184_charter_county_city_charters', '185_emergency_omissions_rendering_renders', '186_president_vice_elect_preside', '187_internet_computer_broadband_access', '188_telephone_subscriber_call_solicitor', '189_suspended_activity_entitle_reinstated', '190_invention_developer_patent_customer', '191_cancel_buyer_cancellation_contract', '192_military_armed_forces_duty', '193_tenant_landlord_tenancy_rent', '194_reserve_association_funds_associations', '195_licentiate_interim_disciplinary_action', '196_sealer_county_breeze_secretary', '197_appbased_network_driver_mobility', '198_disassociation_partner_90_notify', '199_fish_game_nets_gill', '200_media_platform_social_users', '201_listing_agent_real_broker', '202_apprenticeship_embalmer_apprentice_embalmers', '203_remedies_cumulative_remedy_penalties', '204_student_loan_private_education', '205_repealed_remain_effect_until', '206_revoked_suspension_officer_while', '207_personnel_1595_chief_director', '208_chiropractic_examiners_chiropractors_board', '209_quorum_members_constitute_meeting', '210_dog_dogs_guide_animal', '211_corporation_mosconeknox_professional_corporations', '212_actively_subscribed_application_partners', '213_assignee_rents_principal_profits', '214_rehabilitation_criminal_history_denial', '215_multistate_nationwide_mortgage_originator', '216_servicer_mortgage_borrower_borrowers', '217_gift_incentive_merchandise_recipient', '218_massage_council_certificate_chooses', '219_lender_borrower_value_market', '220_renewed_restored_license_examination', '221_11500_proceedings_conducted_powers', '222_physician_assistants_assistant_ucla', '223_director_complaint_dealer_suggestions', '224_seized_beverages_alcoholic_forfeiture', '225_delivery_mail_delivered_document', '226_corporations_13403_shareholder_13401', '227_writ_undertaking_possession_levying', '228_thing_lent_borrower_lender', '229_branch_office_registration_company', '230_junk_recycler_dealer_pallets', '231_executive_appoint_civil_officer', '232_rental_landlord_rent_agreement', '233_unprofessional_constitutes_conduct_relating', '234_shorthand_reporter_reporting_reporterincharge', '235_crematory_manager_bureau_new', '236_ground_constitutes_funeral_disciplinary', '237_commenced_action_cause_misappropriation', '238_repossession_collateral_effects_debtor', '239_equity_local_cannabis_governors', '240_architecture_ground_constitutes_landscape', '241_sanitization_bedding_sanitized_filling', '242_citation_informal_conference_registrar', '243_tanning_ultraviolet_skin_device', '244_unconstitutional_circumstances_provision_remainder', '245_tax_receipts_city_gross', '246_senior_housing_citizen_resident', '247_grain_storage_bulk_bill', '248_remove_appointing_neglect_power', '249_seal_adopt_words_custody', '250_real_contract_property_sales', '251_sale_property_you_circulation', '252_eating_meals_onsale_bona', '253_staff_medical_bylaws_quality', '254_conviction_qualifications_sexual_client', '255_registration_application_applicant_justice', '256_museum_museums_loaned_property', '257_guest_hotel_innkeeper_motel', '258_costs_judge_administrative_decision', '259_peace_officers_enforcement_penal', '260_locksmith_locks_key_establishment', '261_transfer_obligation_debtor_transferee', '262_assisted_seller_marketing_plan', '263_noncompete_void_employee_former', '264_mineral_right_real_owner', '265_constructionrelated_casp_accessibility_defendant', '266_hemodialysis_dialysis_training_technician', '267_records_supervisor_maintain_three', '268_camping_membership_campground_operator', '269_foreclosure_consultant_equity_residence', '270_prevailing_party_attorneys_awarded', '271_assistant_detainer_legal_document', '272_educational_school_council_travel', '273_condominium_boundaries_map_plan', '274_director_chief_duty_power', '275_minor_sexual_victim_exploitation', '276_kickboxing_boxing_martial_arts', '277_viticultural_appellation_wine_origin', '278_committees_renders_repeal_policy', '279_cart_shopping_laundry_carts', '280_transfer_transferred_good_thing', '281_nothing_653w_decorator_interior', '282_mistake_rescinding_party_fact', '283_abuse_disseminate_surgeon_periodically']\n"
     ]
    }
   ],
   "source": [
    "from embedding import insert_label\n",
    "f = topic_model.get_topic_info()\n",
    "t = f['Name']\n",
    "topic_names = t.tolist()\n",
    "print(topic_names)\n",
    "for topic_name in topic_names:\n",
    "    insert_label(db_name, topic_name)"
   ]
  },
  {
   "cell_type": "code",
   "execution_count": 13,
   "id": "40faa6f6",
   "metadata": {},
   "outputs": [
    {
     "data": {
      "text/plain": [
       "[('racing', 0.035010677910673485),\n",
       " ('horse', 0.02236610169500761),\n",
       " ('wagering', 0.01864543067266821),\n",
       " ('meeting', 0.017206605208814393),\n",
       " ('races', 0.015793990829919217),\n",
       " ('thoroughbred', 0.01577528749112515),\n",
       " ('fair', 0.013931776119982487),\n",
       " ('race', 0.013835691094202364),\n",
       " ('distributed', 0.013584107447897675),\n",
       " ('association', 0.013486303149574184)]"
      ]
     },
     "execution_count": 13,
     "metadata": {},
     "output_type": "execute_result"
    }
   ],
   "source": [
    "topic_model.get_topic(0)"
   ]
  },
  {
   "cell_type": "markdown",
   "id": "ba19f4a4",
   "metadata": {},
   "source": [
    "Insert the links between the topics and the text into the db"
   ]
  },
  {
   "cell_type": "code",
   "execution_count": null,
   "id": "c42a0c50",
   "metadata": {},
   "outputs": [],
   "source": [
    "from embedding import store_cluster_link_entry\n",
    "d = topic_model.get_document_info(texts)\n",
    "d_doc = d['Document']\n",
    "d_name = d['Name']\n",
    "print(len(d_doc))\n",
    "print(len(d_name))\n",
    "\n",
    "s_doc = d_doc.tolist()\n",
    "s_name = d_name.tolist()\n",
    "for i, doc in enumerate(s_doc):\n",
    "    store_cluster_link_entry(db_name, doc, s_name[i])\n"
   ]
  },
  {
   "cell_type": "code",
   "execution_count": 4,
   "id": "e95f38bb",
   "metadata": {},
   "outputs": [
    {
     "data": {
      "text/html": [
       "<div>\n",
       "<style scoped>\n",
       "    .dataframe tbody tr th:only-of-type {\n",
       "        vertical-align: middle;\n",
       "    }\n",
       "\n",
       "    .dataframe tbody tr th {\n",
       "        vertical-align: top;\n",
       "    }\n",
       "\n",
       "    .dataframe thead th {\n",
       "        text-align: right;\n",
       "    }\n",
       "</style>\n",
       "<table border=\"1\" class=\"dataframe\">\n",
       "  <thead>\n",
       "    <tr style=\"text-align: right;\">\n",
       "      <th></th>\n",
       "      <th>Topic</th>\n",
       "      <th>Count</th>\n",
       "      <th>Name</th>\n",
       "      <th>Representation</th>\n",
       "      <th>Representative_Docs</th>\n",
       "    </tr>\n",
       "  </thead>\n",
       "  <tbody>\n",
       "    <tr>\n",
       "      <th>0</th>\n",
       "      <td>-1</td>\n",
       "      <td>4179</td>\n",
       "      <td>-1_or_of_the_any</td>\n",
       "      <td>[or, of, the, any, to, in, and, section, this,...</td>\n",
       "      <td>[The board may take action against any license...</td>\n",
       "    </tr>\n",
       "    <tr>\n",
       "      <th>1</th>\n",
       "      <td>0</td>\n",
       "      <td>290</td>\n",
       "      <td>0_racing_horse_wagering_meeting</td>\n",
       "      <td>[racing, horse, wagering, meeting, races, thor...</td>\n",
       "      <td>[The total percentage deducted from wagers at ...</td>\n",
       "    </tr>\n",
       "    <tr>\n",
       "      <th>2</th>\n",
       "      <td>1</td>\n",
       "      <td>243</td>\n",
       "      <td>1_pharmacy_pharmacist_drug_drugs</td>\n",
       "      <td>[pharmacy, pharmacist, drug, drugs, prescripti...</td>\n",
       "      <td>[(a) A pharmacy located in the state may provi...</td>\n",
       "    </tr>\n",
       "    <tr>\n",
       "      <th>3</th>\n",
       "      <td>2</td>\n",
       "      <td>200</td>\n",
       "      <td>2_bar_state_court_attorney</td>\n",
       "      <td>[bar, state, court, attorney, legal, supreme, ...</td>\n",
       "      <td>[(a) In addition to any criminal penalties pur...</td>\n",
       "    </tr>\n",
       "    <tr>\n",
       "      <th>4</th>\n",
       "      <td>3</td>\n",
       "      <td>174</td>\n",
       "      <td>3_lien_owner_vehicle_lienholder</td>\n",
       "      <td>[lien, owner, vehicle, lienholder, claim, work...</td>\n",
       "      <td>[A petition for a release order shall be verif...</td>\n",
       "    </tr>\n",
       "    <tr>\n",
       "      <th>...</th>\n",
       "      <td>...</td>\n",
       "      <td>...</td>\n",
       "      <td>...</td>\n",
       "      <td>...</td>\n",
       "      <td>...</td>\n",
       "    </tr>\n",
       "    <tr>\n",
       "      <th>270</th>\n",
       "      <td>269</td>\n",
       "      <td>11</td>\n",
       "      <td>269_solar_energy_system_installation</td>\n",
       "      <td>[solar, energy, system, installation, systems,...</td>\n",
       "      <td>[(a) When reviewing a request to install a sol...</td>\n",
       "    </tr>\n",
       "    <tr>\n",
       "      <th>271</th>\n",
       "      <td>270</td>\n",
       "      <td>11</td>\n",
       "      <td>270_loan_rate_reverse_mortgage</td>\n",
       "      <td>[loan, rate, reverse, mortgage, you, lender, i...</td>\n",
       "      <td>[(a) No increase in interest provided for in a...</td>\n",
       "    </tr>\n",
       "    <tr>\n",
       "      <th>272</th>\n",
       "      <td>271</td>\n",
       "      <td>11</td>\n",
       "      <td>271_hemodialysis_dialysis_training_technician</td>\n",
       "      <td>[hemodialysis, dialysis, training, technician,...</td>\n",
       "      <td>[(a) Except during training under immediate su...</td>\n",
       "    </tr>\n",
       "    <tr>\n",
       "      <th>273</th>\n",
       "      <td>272</td>\n",
       "      <td>11</td>\n",
       "      <td>272_viticultural_appellation_wine_origin</td>\n",
       "      <td>[viticultural, appellation, wine, origin, napa...</td>\n",
       "      <td>[(a) (1) The Legislature finds and declares th...</td>\n",
       "    </tr>\n",
       "    <tr>\n",
       "      <th>274</th>\n",
       "      <td>273</td>\n",
       "      <td>10</td>\n",
       "      <td>273_licensee_client_manager_partner</td>\n",
       "      <td>[licensee, client, manager, partner, qualified...</td>\n",
       "      <td>[(a) All statements, records, schedules, worki...</td>\n",
       "    </tr>\n",
       "  </tbody>\n",
       "</table>\n",
       "<p>275 rows × 5 columns</p>\n",
       "</div>"
      ],
      "text/plain": [
       "     Topic  Count                                           Name  \\\n",
       "0       -1   4179                               -1_or_of_the_any   \n",
       "1        0    290                0_racing_horse_wagering_meeting   \n",
       "2        1    243               1_pharmacy_pharmacist_drug_drugs   \n",
       "3        2    200                     2_bar_state_court_attorney   \n",
       "4        3    174                3_lien_owner_vehicle_lienholder   \n",
       "..     ...    ...                                            ...   \n",
       "270    269     11           269_solar_energy_system_installation   \n",
       "271    270     11                 270_loan_rate_reverse_mortgage   \n",
       "272    271     11  271_hemodialysis_dialysis_training_technician   \n",
       "273    272     11       272_viticultural_appellation_wine_origin   \n",
       "274    273     10            273_licensee_client_manager_partner   \n",
       "\n",
       "                                        Representation  \\\n",
       "0    [or, of, the, any, to, in, and, section, this,...   \n",
       "1    [racing, horse, wagering, meeting, races, thor...   \n",
       "2    [pharmacy, pharmacist, drug, drugs, prescripti...   \n",
       "3    [bar, state, court, attorney, legal, supreme, ...   \n",
       "4    [lien, owner, vehicle, lienholder, claim, work...   \n",
       "..                                                 ...   \n",
       "270  [solar, energy, system, installation, systems,...   \n",
       "271  [loan, rate, reverse, mortgage, you, lender, i...   \n",
       "272  [hemodialysis, dialysis, training, technician,...   \n",
       "273  [viticultural, appellation, wine, origin, napa...   \n",
       "274  [licensee, client, manager, partner, qualified...   \n",
       "\n",
       "                                   Representative_Docs  \n",
       "0    [The board may take action against any license...  \n",
       "1    [The total percentage deducted from wagers at ...  \n",
       "2    [(a) A pharmacy located in the state may provi...  \n",
       "3    [(a) In addition to any criminal penalties pur...  \n",
       "4    [A petition for a release order shall be verif...  \n",
       "..                                                 ...  \n",
       "270  [(a) When reviewing a request to install a sol...  \n",
       "271  [(a) No increase in interest provided for in a...  \n",
       "272  [(a) Except during training under immediate su...  \n",
       "273  [(a) (1) The Legislature finds and declares th...  \n",
       "274  [(a) All statements, records, schedules, worki...  \n",
       "\n",
       "[275 rows x 5 columns]"
      ]
     },
     "execution_count": 4,
     "metadata": {},
     "output_type": "execute_result"
    }
   ],
   "source": [
    "topic_model.get_topic_info()"
   ]
  },
  {
   "cell_type": "markdown",
   "id": "cde1c283",
   "metadata": {},
   "source": [
    "Create a hierarchical map of topics"
   ]
  },
  {
   "cell_type": "code",
   "execution_count": null,
   "id": "ec7f8eec",
   "metadata": {},
   "outputs": [],
   "source": [
    "from bertopic import BERTopic\n",
    "from hdbscan import HDBSCAN\n",
    "\n",
    "hdbscan_model = HDBSCAN(min_cluster_size=15, metric='euclidean', cluster_selection_method='eom', prediction_data=True)\n",
    "topic_model_cluster = BERTopic(hdbscan_model=hdbscan_model)\n",
    "\n",
    "from embedding import fetch_entries\n",
    "db_name = \"law_database.db\"\n",
    "texts, uuids = fetch_entries(db_name)\n",
    "topics_cluster, probs_cluster = topic_model_cluster.fit_transform(texts)\n",
    "\n",
    "topic_model_cluster.get_topic_info()"
   ]
  },
  {
   "cell_type": "markdown",
   "id": "5b9d8d96",
   "metadata": {},
   "source": [
    "Create UMAP projection form hierarchical map of topics"
   ]
  },
  {
   "cell_type": "code",
   "execution_count": null,
   "id": "c03fd150",
   "metadata": {},
   "outputs": [],
   "source": [
    "from embedding import fetch_entries\n",
    "db_name = \"law_database.db\"\n",
    "docs, uuids = fetch_entries(db_name)\n",
    "from sentence_transformers import SentenceTransformer\n",
    "from bertopic import BERTopic\n",
    "from umap import UMAP\n",
    "\n",
    "# Prepare embeddings\n",
    "# docs = fetch_20newsgroups(subset='all',  remove=('headers', 'footers', 'quotes'))['data']\n",
    "sentence_model = SentenceTransformer(\"all-MiniLM-L6-v2\")\n",
    "embeddings = sentence_model.encode(docs, show_progress_bar=False)\n",
    "\n",
    "# Train BERTopic\n",
    "topic_model = BERTopic().fit(docs, embeddings)\n",
    "\n",
    "# Run the visualization with the original embeddings\n",
    "topic_model.visualize_documents(docs, embeddings=embeddings)\n",
    "\n",
    "# Reduce dimensionality of embeddings, this step is optional but much faster to perform iteratively:\n",
    "reduced_embeddings = UMAP(n_neighbors=10, n_components=2, min_dist=0.0, metric='cosine').fit_transform(embeddings)\n",
    "# topic_model.visualize_documents(docs, reduced_embeddings=reduced_embeddings)\n",
    "print(reduced_embeddings)\n"
   ]
  },
  {
   "cell_type": "markdown",
   "id": "cd2a2f16",
   "metadata": {},
   "source": [
    "Encode the UMAP projection into a JSON file \n",
    "- umap_x\n",
    "- umap_y\n",
    "- topic\n",
    "- document"
   ]
  },
  {
   "cell_type": "code",
   "execution_count": null,
   "id": "9b21969c",
   "metadata": {},
   "outputs": [],
   "source": [
    "import json\n",
    "print(len(topic_model.get_document_info(docs)))\n",
    "print(len(reduced_embeddings))\n",
    "\n",
    "document_info = topic_model.get_document_info(docs)\n",
    "topics = document_info['Name']\n",
    "documents = document_info['Document']\n",
    "\n",
    "# Assuming `reduced_embeddings` is your UMAP data and it's a list of lists or a NumPy array\n",
    "data = [{\"umap_x\": float(point[0]), \"umap_y\": float(point[1]), \"topic\": topic, \"document\": document} for point, topic, document in zip(reduced_embeddings, topics, documents)]\n",
    "\n",
    "# Save the data as a JSON file\n",
    "with open(\"umap-data.json\", \"w\") as f:\n",
    "    json.dump(data, f)"
   ]
  },
  {
   "cell_type": "markdown",
   "id": "6608ae22",
   "metadata": {},
   "source": [
    "Encode the UMAP projection into JSON file with linked text_uuid\n",
    "- umap_x\n",
    "- umap_y\n",
    "- item_id"
   ]
  },
  {
   "cell_type": "code",
   "execution_count": null,
   "id": "7718bcdd",
   "metadata": {},
   "outputs": [],
   "source": [
    "import json\n",
    "\n",
    "# Get the document information from BERTopic\n",
    "d = topic_model.get_document_info(texts)\n",
    "d_doc = d['Document']\n",
    "d_name = d['Name']\n",
    "\n",
    "# Convert to list if necessary\n",
    "s_doc = d_doc.tolist() if hasattr(d_doc, 'tolist') else d_doc\n",
    "s_name = d_name.tolist() if hasattr(d_name, 'tolist') else d_name\n",
    "\n",
    "# Create a list of dictionaries for JSON output\n",
    "data = []\n",
    "for i, doc in enumerate(s_doc):\n",
    "    # Use the UUID corresponding to the document's text\n",
    "    law_entry_uuid = uuids[i]\n",
    "    data.append({\n",
    "        \"umap_x\": float(reduced_embeddings[i][0]),\n",
    "        \"umap_y\": float(reduced_embeddings[i][1]),\n",
    "        \"item_id\": law_entry_uuid  # Add the law_entry_uuid here\n",
    "    })\n",
    "\n",
    "# Save the data as a JSON file\n",
    "with open(\"umap-data.json\", \"w\") as f:\n",
    "    json.dump(data, f)"
   ]
  },
  {
   "cell_type": "markdown",
   "id": "a00d3bda",
   "metadata": {},
   "source": [
    "Future Work:\n",
    "Update Topic Representation after Training\n",
    "https://maartengr.github.io/BERTopic/getting_started/topicrepresentation/topicrepresentation.html\n",
    "\n",
    "Online Topic Modeling with River:\n",
    "https://maartengr.github.io/BERTopic/getting_started/online/online.html\n",
    "\n",
    "Multi Aspect Representations:\n",
    "https://maartengr.github.io/BERTopic/getting_started/multiaspect/multiaspect.html\n",
    "\n",
    "Zero Shot Topic Modeling\n",
    "https://maartengr.github.io/BERTopic/getting_started/zeroshot/zeroshot.html"
   ]
  },
  {
   "cell_type": "markdown",
   "id": "2d042c47",
   "metadata": {},
   "source": [
    "Partial Labels:\n",
    "https://maartengr.github.io/BERTopic/getting_started/semisupervised/semisupervised.html#partial-labels"
   ]
  },
  {
   "cell_type": "code",
   "execution_count": 8,
   "id": "4c39c62a",
   "metadata": {},
   "outputs": [
    {
     "name": "stdout",
     "output_type": "stream",
     "text": [
      "Label: damages, UUID: 279ea29d-f551-424b-9015-563a3f2d8f4c\n",
      "Label: damages, UUID: 2881e76d-59b3-4397-99ff-e249b789a1d6\n",
      "Label: damages, UUID: 2ed722c7-85d9-402e-89b0-e2fc3cb5a316\n"
     ]
    },
    {
     "ename": "ValueError",
     "evalue": "dtype='numeric' is not compatible with arrays of bytes/strings.Convert your data to numeric values explicitly instead.",
     "output_type": "error",
     "traceback": [
      "\u001b[0;31m---------------------------------------------------------------------------\u001b[0m",
      "\u001b[0;31mValueError\u001b[0m                                Traceback (most recent call last)",
      "Cell \u001b[0;32mIn[8], line 15\u001b[0m\n\u001b[1;32m     13\u001b[0m \u001b[38;5;28;01melse\u001b[39;00m:\n\u001b[1;32m     14\u001b[0m     topic_model \u001b[38;5;241m=\u001b[39m BERTopic()\n\u001b[0;32m---> 15\u001b[0m     topics, probs \u001b[38;5;241m=\u001b[39m \u001b[43mtopic_model\u001b[49m\u001b[38;5;241;43m.\u001b[39;49m\u001b[43mfit_transform\u001b[49m\u001b[43m(\u001b[49m\u001b[43mtexts\u001b[49m\u001b[43m,\u001b[49m\u001b[43m \u001b[49m\u001b[43my\u001b[49m\u001b[38;5;241;43m=\u001b[39;49m\u001b[43mlabels\u001b[49m\u001b[43m)\u001b[49m\n",
      "File \u001b[0;32m~/law/legal_ontology/venv/lib/python3.11/site-packages/bertopic/_bertopic.py:408\u001b[0m, in \u001b[0;36mBERTopic.fit_transform\u001b[0;34m(self, documents, embeddings, images, y)\u001b[0m\n\u001b[1;32m    405\u001b[0m         \u001b[38;5;28;01mreturn\u001b[39;00m \u001b[38;5;28mself\u001b[39m\u001b[38;5;241m.\u001b[39m_combine_zeroshot_topics(documents, assigned_documents, assigned_embeddings)\n\u001b[1;32m    407\u001b[0m \u001b[38;5;66;03m# Reduce dimensionality\u001b[39;00m\n\u001b[0;32m--> 408\u001b[0m umap_embeddings \u001b[38;5;241m=\u001b[39m \u001b[38;5;28;43mself\u001b[39;49m\u001b[38;5;241;43m.\u001b[39;49m\u001b[43m_reduce_dimensionality\u001b[49m\u001b[43m(\u001b[49m\u001b[43membeddings\u001b[49m\u001b[43m,\u001b[49m\u001b[43m \u001b[49m\u001b[43my\u001b[49m\u001b[43m)\u001b[49m\n\u001b[1;32m    410\u001b[0m \u001b[38;5;66;03m# Cluster reduced embeddings\u001b[39;00m\n\u001b[1;32m    411\u001b[0m documents, probabilities \u001b[38;5;241m=\u001b[39m \u001b[38;5;28mself\u001b[39m\u001b[38;5;241m.\u001b[39m_cluster_embeddings(umap_embeddings, documents, y\u001b[38;5;241m=\u001b[39my)\n",
      "File \u001b[0;32m~/law/legal_ontology/venv/lib/python3.11/site-packages/bertopic/_bertopic.py:3355\u001b[0m, in \u001b[0;36mBERTopic._reduce_dimensionality\u001b[0;34m(self, embeddings, y, partial_fit)\u001b[0m\n\u001b[1;32m   3352\u001b[0m \u001b[38;5;28;01mtry\u001b[39;00m:\n\u001b[1;32m   3353\u001b[0m     \u001b[38;5;66;03m# cuml umap needs y to be an numpy array\u001b[39;00m\n\u001b[1;32m   3354\u001b[0m     y \u001b[38;5;241m=\u001b[39m np\u001b[38;5;241m.\u001b[39marray(y) \u001b[38;5;28;01mif\u001b[39;00m y \u001b[38;5;129;01mis\u001b[39;00m \u001b[38;5;129;01mnot\u001b[39;00m \u001b[38;5;28;01mNone\u001b[39;00m \u001b[38;5;28;01melse\u001b[39;00m \u001b[38;5;28;01mNone\u001b[39;00m\n\u001b[0;32m-> 3355\u001b[0m     \u001b[38;5;28;43mself\u001b[39;49m\u001b[38;5;241;43m.\u001b[39;49m\u001b[43mumap_model\u001b[49m\u001b[38;5;241;43m.\u001b[39;49m\u001b[43mfit\u001b[49m\u001b[43m(\u001b[49m\u001b[43membeddings\u001b[49m\u001b[43m,\u001b[49m\u001b[43m \u001b[49m\u001b[43my\u001b[49m\u001b[38;5;241;43m=\u001b[39;49m\u001b[43my\u001b[49m\u001b[43m)\u001b[49m\n\u001b[1;32m   3356\u001b[0m \u001b[38;5;28;01mexcept\u001b[39;00m \u001b[38;5;167;01mTypeError\u001b[39;00m:\n\u001b[1;32m   3358\u001b[0m     \u001b[38;5;28mself\u001b[39m\u001b[38;5;241m.\u001b[39mumap_model\u001b[38;5;241m.\u001b[39mfit(embeddings)\n",
      "File \u001b[0;32m~/law/legal_ontology/venv/lib/python3.11/site-packages/umap/umap_.py:2676\u001b[0m, in \u001b[0;36mUMAP.fit\u001b[0;34m(self, X, y, force_all_finite)\u001b[0m\n\u001b[1;32m   2674\u001b[0m     y_ \u001b[38;5;241m=\u001b[39m y[index]\n\u001b[1;32m   2675\u001b[0m \u001b[38;5;28;01melse\u001b[39;00m:\n\u001b[0;32m-> 2676\u001b[0m     y_ \u001b[38;5;241m=\u001b[39m \u001b[43mcheck_array\u001b[49m\u001b[43m(\u001b[49m\u001b[43my\u001b[49m\u001b[43m,\u001b[49m\u001b[43m \u001b[49m\u001b[43mensure_2d\u001b[49m\u001b[38;5;241;43m=\u001b[39;49m\u001b[38;5;28;43;01mFalse\u001b[39;49;00m\u001b[43m,\u001b[49m\u001b[43m \u001b[49m\u001b[43mforce_all_finite\u001b[49m\u001b[38;5;241;43m=\u001b[39;49m\u001b[43mforce_all_finite\u001b[49m\u001b[43m)\u001b[49m[index]\n\u001b[1;32m   2677\u001b[0m \u001b[38;5;28;01mif\u001b[39;00m \u001b[38;5;28mself\u001b[39m\u001b[38;5;241m.\u001b[39mtarget_metric \u001b[38;5;241m==\u001b[39m \u001b[38;5;124m\"\u001b[39m\u001b[38;5;124mcategorical\u001b[39m\u001b[38;5;124m\"\u001b[39m:\n\u001b[1;32m   2678\u001b[0m     \u001b[38;5;28;01mif\u001b[39;00m \u001b[38;5;28mself\u001b[39m\u001b[38;5;241m.\u001b[39mtarget_weight \u001b[38;5;241m<\u001b[39m \u001b[38;5;241m1.0\u001b[39m:\n",
      "File \u001b[0;32m~/law/legal_ontology/venv/lib/python3.11/site-packages/sklearn/utils/validation.py:992\u001b[0m, in \u001b[0;36mcheck_array\u001b[0;34m(array, accept_sparse, accept_large_sparse, dtype, order, copy, force_all_finite, ensure_2d, allow_nd, ensure_min_samples, ensure_min_features, estimator, input_name)\u001b[0m\n\u001b[1;32m    989\u001b[0m         \u001b[38;5;28;01mraise\u001b[39;00m \u001b[38;5;167;01mValueError\u001b[39;00m(msg)\n\u001b[1;32m    991\u001b[0m \u001b[38;5;28;01mif\u001b[39;00m dtype_numeric \u001b[38;5;129;01mand\u001b[39;00m \u001b[38;5;28mhasattr\u001b[39m(array\u001b[38;5;241m.\u001b[39mdtype, \u001b[38;5;124m\"\u001b[39m\u001b[38;5;124mkind\u001b[39m\u001b[38;5;124m\"\u001b[39m) \u001b[38;5;129;01mand\u001b[39;00m array\u001b[38;5;241m.\u001b[39mdtype\u001b[38;5;241m.\u001b[39mkind \u001b[38;5;129;01min\u001b[39;00m \u001b[38;5;124m\"\u001b[39m\u001b[38;5;124mUSV\u001b[39m\u001b[38;5;124m\"\u001b[39m:\n\u001b[0;32m--> 992\u001b[0m     \u001b[38;5;28;01mraise\u001b[39;00m \u001b[38;5;167;01mValueError\u001b[39;00m(\n\u001b[1;32m    993\u001b[0m         \u001b[38;5;124m\"\u001b[39m\u001b[38;5;124mdtype=\u001b[39m\u001b[38;5;124m'\u001b[39m\u001b[38;5;124mnumeric\u001b[39m\u001b[38;5;124m'\u001b[39m\u001b[38;5;124m is not compatible with arrays of bytes/strings.\u001b[39m\u001b[38;5;124m\"\u001b[39m\n\u001b[1;32m    994\u001b[0m         \u001b[38;5;124m\"\u001b[39m\u001b[38;5;124mConvert your data to numeric values explicitly instead.\u001b[39m\u001b[38;5;124m\"\u001b[39m\n\u001b[1;32m    995\u001b[0m     )\n\u001b[1;32m    996\u001b[0m \u001b[38;5;28;01mif\u001b[39;00m \u001b[38;5;129;01mnot\u001b[39;00m allow_nd \u001b[38;5;129;01mand\u001b[39;00m array\u001b[38;5;241m.\u001b[39mndim \u001b[38;5;241m>\u001b[39m\u001b[38;5;241m=\u001b[39m \u001b[38;5;241m3\u001b[39m:\n\u001b[1;32m    997\u001b[0m     \u001b[38;5;28;01mraise\u001b[39;00m \u001b[38;5;167;01mValueError\u001b[39;00m(\n\u001b[1;32m    998\u001b[0m         \u001b[38;5;124m\"\u001b[39m\u001b[38;5;124mFound array with dim \u001b[39m\u001b[38;5;132;01m%d\u001b[39;00m\u001b[38;5;124m. \u001b[39m\u001b[38;5;132;01m%s\u001b[39;00m\u001b[38;5;124m expected <= 2.\u001b[39m\u001b[38;5;124m\"\u001b[39m\n\u001b[1;32m    999\u001b[0m         \u001b[38;5;241m%\u001b[39m (array\u001b[38;5;241m.\u001b[39mndim, estimator_name)\n\u001b[1;32m   1000\u001b[0m     )\n",
      "\u001b[0;31mValueError\u001b[0m: dtype='numeric' is not compatible with arrays of bytes/strings.Convert your data to numeric values explicitly instead."
     ]
    }
   ],
   "source": [
    "from bertopic import BERTopic\n",
    "from embedding import fetch_entries_with_user_labels\n",
    "db_name = \"law_database.db\"\n",
    "texts, labels, label_bert_id, uuids = fetch_entries_with_user_labels(db_name)\n",
    "\n",
    "# Print all the values of labels and their uuids where the label is not equal to -1\n",
    "for label, uuid in zip(labels, uuids):\n",
    "    if label_bert_id != -1:\n",
    "        print(f\"Label: {label}, UUID: {uuid}\")\n",
    "\n",
    "if all(label_bert_id == -1 for label in labels):\n",
    "    print(\"error no user labels\")\n",
    "else:\n",
    "    topic_model = BERTopic()\n",
    "    topics, probs = topic_model.fit_transform(texts, y=label_bert_id)"
   ]
  },
  {
   "cell_type": "code",
   "execution_count": 7,
   "id": "fc4f0e89",
   "metadata": {},
   "outputs": [
    {
     "data": {
      "text/html": [
       "<div>\n",
       "<style scoped>\n",
       "    .dataframe tbody tr th:only-of-type {\n",
       "        vertical-align: middle;\n",
       "    }\n",
       "\n",
       "    .dataframe tbody tr th {\n",
       "        vertical-align: top;\n",
       "    }\n",
       "\n",
       "    .dataframe thead th {\n",
       "        text-align: right;\n",
       "    }\n",
       "</style>\n",
       "<table border=\"1\" class=\"dataframe\">\n",
       "  <thead>\n",
       "    <tr style=\"text-align: right;\">\n",
       "      <th></th>\n",
       "      <th>Topic</th>\n",
       "      <th>Count</th>\n",
       "      <th>Name</th>\n",
       "      <th>Representation</th>\n",
       "      <th>Representative_Docs</th>\n",
       "    </tr>\n",
       "  </thead>\n",
       "  <tbody>\n",
       "    <tr>\n",
       "      <th>0</th>\n",
       "      <td>-1</td>\n",
       "      <td>4130</td>\n",
       "      <td>-1_or_of_the_to</td>\n",
       "      <td>[or, of, the, to, any, in, section, and, that,...</td>\n",
       "      <td>[In addition to the remedy provided for in Sec...</td>\n",
       "    </tr>\n",
       "    <tr>\n",
       "      <th>1</th>\n",
       "      <td>0</td>\n",
       "      <td>292</td>\n",
       "      <td>0_racing_horse_wagering_meeting</td>\n",
       "      <td>[racing, horse, wagering, meeting, races, thor...</td>\n",
       "      <td>[The total percentage deducted from wagers at ...</td>\n",
       "    </tr>\n",
       "    <tr>\n",
       "      <th>2</th>\n",
       "      <td>1</td>\n",
       "      <td>206</td>\n",
       "      <td>1_bar_state_attorney_court</td>\n",
       "      <td>[bar, state, attorney, court, legal, supreme, ...</td>\n",
       "      <td>[(a) In addition to any criminal penalties pur...</td>\n",
       "    </tr>\n",
       "    <tr>\n",
       "      <th>3</th>\n",
       "      <td>2</td>\n",
       "      <td>179</td>\n",
       "      <td>2_lien_owner_vehicle_lienholder</td>\n",
       "      <td>[lien, owner, vehicle, lienholder, claim, work...</td>\n",
       "      <td>[The lien created by the last preceding sectio...</td>\n",
       "    </tr>\n",
       "    <tr>\n",
       "      <th>4</th>\n",
       "      <td>3</td>\n",
       "      <td>176</td>\n",
       "      <td>3_medical_physician_surgeon_physicians</td>\n",
       "      <td>[medical, physician, surgeon, physicians, surg...</td>\n",
       "      <td>[(a) Any person who does not immediately quali...</td>\n",
       "    </tr>\n",
       "    <tr>\n",
       "      <th>...</th>\n",
       "      <td>...</td>\n",
       "      <td>...</td>\n",
       "      <td>...</td>\n",
       "      <td>...</td>\n",
       "      <td>...</td>\n",
       "    </tr>\n",
       "    <tr>\n",
       "      <th>276</th>\n",
       "      <td>275</td>\n",
       "      <td>11</td>\n",
       "      <td>275_direct_withheld_retention_contractor</td>\n",
       "      <td>[direct, withheld, retention, contractor, desi...</td>\n",
       "      <td>[(a) If a direct contractor has withheld a ret...</td>\n",
       "    </tr>\n",
       "    <tr>\n",
       "      <th>277</th>\n",
       "      <td>276</td>\n",
       "      <td>10</td>\n",
       "      <td>276_competition_induce_subsidy_unlawful</td>\n",
       "      <td>[competition, induce, subsidy, unlawful, discr...</td>\n",
       "      <td>[It is unlawful for any manufacturer to pay or...</td>\n",
       "    </tr>\n",
       "    <tr>\n",
       "      <th>278</th>\n",
       "      <td>277</td>\n",
       "      <td>10</td>\n",
       "      <td>277_child_internet_licensees_disclose</td>\n",
       "      <td>[child, internet, licensees, disclose, informa...</td>\n",
       "      <td>[(a) (1) In addition to publishing the summary...</td>\n",
       "    </tr>\n",
       "    <tr>\n",
       "      <th>279</th>\n",
       "      <td>278</td>\n",
       "      <td>10</td>\n",
       "      <td>278_grant_grantee_delivered_interpreted</td>\n",
       "      <td>[grant, grantee, delivered, interpreted, deliv...</td>\n",
       "      <td>[A grant cannot be delivered to the grantee co...</td>\n",
       "    </tr>\n",
       "    <tr>\n",
       "      <th>280</th>\n",
       "      <td>279</td>\n",
       "      <td>10</td>\n",
       "      <td>279_broker_note_promissory_real</td>\n",
       "      <td>[broker, note, promissory, real, purchaser, le...</td>\n",
       "      <td>[Except as authorized by permit issued pursuan...</td>\n",
       "    </tr>\n",
       "  </tbody>\n",
       "</table>\n",
       "<p>281 rows × 5 columns</p>\n",
       "</div>"
      ],
      "text/plain": [
       "     Topic  Count                                      Name  \\\n",
       "0       -1   4130                           -1_or_of_the_to   \n",
       "1        0    292           0_racing_horse_wagering_meeting   \n",
       "2        1    206                1_bar_state_attorney_court   \n",
       "3        2    179           2_lien_owner_vehicle_lienholder   \n",
       "4        3    176    3_medical_physician_surgeon_physicians   \n",
       "..     ...    ...                                       ...   \n",
       "276    275     11  275_direct_withheld_retention_contractor   \n",
       "277    276     10   276_competition_induce_subsidy_unlawful   \n",
       "278    277     10     277_child_internet_licensees_disclose   \n",
       "279    278     10   278_grant_grantee_delivered_interpreted   \n",
       "280    279     10           279_broker_note_promissory_real   \n",
       "\n",
       "                                        Representation  \\\n",
       "0    [or, of, the, to, any, in, section, and, that,...   \n",
       "1    [racing, horse, wagering, meeting, races, thor...   \n",
       "2    [bar, state, attorney, court, legal, supreme, ...   \n",
       "3    [lien, owner, vehicle, lienholder, claim, work...   \n",
       "4    [medical, physician, surgeon, physicians, surg...   \n",
       "..                                                 ...   \n",
       "276  [direct, withheld, retention, contractor, desi...   \n",
       "277  [competition, induce, subsidy, unlawful, discr...   \n",
       "278  [child, internet, licensees, disclose, informa...   \n",
       "279  [grant, grantee, delivered, interpreted, deliv...   \n",
       "280  [broker, note, promissory, real, purchaser, le...   \n",
       "\n",
       "                                   Representative_Docs  \n",
       "0    [In addition to the remedy provided for in Sec...  \n",
       "1    [The total percentage deducted from wagers at ...  \n",
       "2    [(a) In addition to any criminal penalties pur...  \n",
       "3    [The lien created by the last preceding sectio...  \n",
       "4    [(a) Any person who does not immediately quali...  \n",
       "..                                                 ...  \n",
       "276  [(a) If a direct contractor has withheld a ret...  \n",
       "277  [It is unlawful for any manufacturer to pay or...  \n",
       "278  [(a) (1) In addition to publishing the summary...  \n",
       "279  [A grant cannot be delivered to the grantee co...  \n",
       "280  [Except as authorized by permit issued pursuan...  \n",
       "\n",
       "[281 rows x 5 columns]"
      ]
     },
     "execution_count": 7,
     "metadata": {},
     "output_type": "execute_result"
    }
   ],
   "source": [
    "topic_model.get_topic_info()\n",
    "topic_model.get_topics()"
   ]
  },
  {
   "cell_type": "markdown",
   "id": "7f98860b",
   "metadata": {},
   "source": [
    "LLM generated labels:\n",
    "https://maartengr.github.io/BERTopic/getting_started/representation/llm#zephyr-mistral-7b"
   ]
  },
  {
   "cell_type": "code",
   "execution_count": null,
   "id": "8908b0e5",
   "metadata": {},
   "outputs": [],
   "source": [
    "%pip install ctransformers\n",
    "%pip install --upgrade git+https://github.com/huggingface/transformers"
   ]
  },
  {
   "cell_type": "code",
   "execution_count": null,
   "id": "7328b413",
   "metadata": {},
   "outputs": [],
   "source": [
    "from ctransformers import AutoModelForCausalLM\n",
    "from transformers import AutoTokenizer, pipeline\n",
    "from bertopic.representation import TextGeneration\n",
    "from bertopic import BERTopic\n",
    "\n",
    "# Set gpu_layers to the number of layers to offload to GPU. Set to 0 if no GPU acceleration is available on your system.\n",
    "model = AutoModelForCausalLM.from_pretrained(\n",
    "    \"TheBloke/zephyr-7B-alpha-GGUF\",\n",
    "    model_file=\"zephyr-7b-alpha.Q4_K_M.gguf\",\n",
    "    model_type=\"mistral\",\n",
    "    gpu_layers=50,\n",
    "    hf=True\n",
    ")\n",
    "tokenizer = AutoTokenizer.from_pretrained(\"HuggingFaceH4/zephyr-7b-alpha\")\n",
    "\n",
    "# Pipeline\n",
    "generator = pipeline(\n",
    "    model=model, tokenizer=tokenizer,\n",
    "    task='text-generation',\n",
    "    max_new_tokens=50,\n",
    "    repetition_penalty=1.1\n",
    ")\n",
    "\n",
    "prompt = \"\"\"<|system|>You are a helpful, respectful and honest assistant for labeling topics..</s>\n",
    "<|user|>\n",
    "I have a topic that contains the following documents:\n",
    "[DOCUMENTS]\n",
    "\n",
    "The topic is described by the following keywords: '[KEYWORDS]'.\n",
    "\n",
    "Based on the information about the topic above, please create a short label of this topic. Make sure you to only return the label and nothing more.</s>\n",
    "<|assistant|>\"\"\"\n",
    "\n",
    "# Text generation with Zephyr\n",
    "zephyr = TextGeneration(generator, prompt=prompt)\n",
    "representation_model = {\"Zephyr\": zephyr}\n",
    "\n",
    "# Topic Modeling\n",
    "topic_model = BERTopic(representation_model=representation_model, verbose=True)"
   ]
  },
  {
   "cell_type": "code",
   "execution_count": null,
   "id": "7cfee1b5",
   "metadata": {},
   "outputs": [],
   "source": [
    "from embedding import fetch_entries\n",
    "db_name = \"law_database.db\"\n",
    "texts, uuids = fetch_entries(db_name)\n",
    "\n",
    "topics, probs = topic_model.fit_transform(texts)"
   ]
  },
  {
   "cell_type": "code",
   "execution_count": null,
   "id": "cf0fd41e",
   "metadata": {},
   "outputs": [],
   "source": [
    "topic_model.get_topic_info()\n",
    "topic_model.get_topics()"
   ]
  }
 ],
 "metadata": {
  "kernelspec": {
   "display_name": "Python 3 (ipykernel)",
   "language": "python",
   "name": "python3"
  },
  "language_info": {
   "codemirror_mode": {
    "name": "ipython",
    "version": 3
   },
   "file_extension": ".py",
   "mimetype": "text/x-python",
   "name": "python",
   "nbconvert_exporter": "python",
   "pygments_lexer": "ipython3",
   "version": "3.11.7+"
  }
 },
 "nbformat": 4,
 "nbformat_minor": 5
}
